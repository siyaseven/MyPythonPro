{
 "cells": [
  {
   "cell_type": "code",
   "execution_count": 6,
   "metadata": {},
   "outputs": [],
   "source": [
    "#Python Gui Project\n",
    "from tkinter import *"
   ]
  },
  {
   "cell_type": "code",
   "execution_count": null,
   "metadata": {},
   "outputs": [],
   "source": [
    "#Key dow function\n",
    "def click():\n",
    "    entered_text=textentry.get() #this will collect the text from the text entry box\n",
    "    output.delete(0.0, END)\n",
    "    try:\n",
    "        definition = my_compdictionary[entered_text]\n",
    "    except:\n",
    "        definition = \"sorry there is no word like that please try again\"\n",
    "    output.insert(END, definition)\n",
    "\n",
    "### Main:\n",
    "window = Toplevel()\n",
    "window.title(\"This for Mphile\")\n",
    "window.configure(background=\"red\")\n",
    "\n",
    "### My photo\n",
    "photo1 = PhotoImage(file=\"me.gif\")\n",
    "Label(window, image=photo1, bg=\"black\").grid(row=0, column=0, sticky=E)\n",
    "\n",
    "#create label\n",
    "Label(window,text=\"Enter the word you would like a definition for:\", bg=\"blue\",fg=\"white\", font=\"none 12 bold\").grid(row=1, column=0, sticky=W)\n",
    "\n",
    "#create a text entry box\n",
    "textentry = Entry(window, width=20, bg=\"white\")\n",
    "textentry.grid(row=2, column=0, sticky=W)\n",
    "\n",
    "#add a submit button\n",
    "Button(window, text=\"SUBMIT\", width=6, command=click).grid(row=3, column=0, sticky=W)\n",
    "\n",
    "#create another label\n",
    "Label(window, text=\"\\nDefinition:\", bg=\"blue\", fg=\"white\", font=\"none 12 bold\").grid(row=4, column=0, sticky=W)\n",
    "\n",
    "#create a text box\n",
    "output = Text(window, width=75, height=6, wrap=WORD, background=\"white\")\n",
    "output.grid(row=5, column=0, columnspan=2, sticky=W)\n",
    "\n",
    "# the dictionary\n",
    "my_compdictionary = {'algorithm':'Step by instructions to complete a task','bug': 'piece of code that causes a program to fail','Mphile':'is a beautifull lady close to my heart'}\n",
    "\n",
    "\n",
    "#exit function\n",
    "def close_window():\n",
    "    window.destroy()\n",
    "    exit ()\n",
    "    \n",
    "#exit label\n",
    "Label(window, text=\"click to exit:\", bg=\"blue\", fg=\"white\", font=\"none 12 bold\").grid(row=6,column=0, sticky=W)\n",
    "Button(window, text=\"Exit\", width=14, command=close_window).grid(row=7, column=0, sticky=W)\n",
    "\n",
    "window.mainloop()"
   ]
  },
  {
   "cell_type": "code",
   "execution_count": null,
   "metadata": {},
   "outputs": [],
   "source": []
  }
 ],
 "metadata": {
  "kernelspec": {
   "display_name": "Python 3",
   "language": "python",
   "name": "python3"
  },
  "language_info": {
   "codemirror_mode": {
    "name": "ipython",
    "version": 3
   },
   "file_extension": ".py",
   "mimetype": "text/x-python",
   "name": "python",
   "nbconvert_exporter": "python",
   "pygments_lexer": "ipython3",
   "version": "3.7.3"
  }
 },
 "nbformat": 4,
 "nbformat_minor": 2
}
