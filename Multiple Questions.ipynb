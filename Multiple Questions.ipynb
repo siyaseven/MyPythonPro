{
 "cells": [
  {
   "cell_type": "code",
   "execution_count": 2,
   "metadata": {},
   "outputs": [],
   "source": [
    "question_prompts = [\"What color are apples?\\n(a) Red/Green\\n(b) Purple\\n(c) Orange\\n\\n\",\n",
    "                   \"What color are Bananas?\\n(a) Teal\\n(b) Magenta\\n(c) Yellow\\n\\n\",\n",
    "                   \"What color are Strawberries?\\n(a) Yello\\n(b) Red\\n(c) Blue\"]"
   ]
  },
  {
   "cell_type": "code",
   "execution_count": 4,
   "metadata": {},
   "outputs": [],
   "source": [
    "class Question:\n",
    "    def __init__(self, prompt, answer):\n",
    "        self.prompt = prompt\n",
    "        self.answer = answer"
   ]
  },
  {
   "cell_type": "code",
   "execution_count": 5,
   "metadata": {},
   "outputs": [],
   "source": [
    "questions = [Question(question_prompts[0],\"a\"),Question(question_prompts[1],\"c\"),Question(question_prompts[2],\"b\")]"
   ]
  },
  {
   "cell_type": "code",
   "execution_count": 26,
   "metadata": {},
   "outputs": [],
   "source": [
    "def run_test(questions):\n",
    "    allowedanswers = [\"a\", \"b\", \"c\"]\n",
    "    answeredQuestions = {}\n",
    "    score = 0\n",
    "    for question in questions:\n",
    "        answered = False\n",
    "        while not answered:\n",
    "            \n",
    "            answer = input(question.prompt)\n",
    "            if answer in allowedanswers:\n",
    "                answeredQuestions[question] = answer\n",
    "                answered = True\n",
    "                if answer == question.answer and answer.lower() == \"a\":\n",
    "                    score += 3\n",
    "                if answer == question.answer and answer.lower() == \"b\":\n",
    "                    score += 2\n",
    "                if answer == question.answer and answer.lower() == \"c\":\n",
    "                    score += 1\n",
    "                else:\n",
    "                    score += 0\n",
    "            else:\n",
    "                print(\"Input not allowed, please enter a, b, or c.\\n\")\n",
    "\n",
    "            \n",
    "    #print(answeredQuestions)\n",
    "    print(\" You got \" + str(score) + \"/\" + str(len(questions)) + \" Correct\" )\n",
    "    \n",
    "    \n",
    "    "
   ]
  },
  {
   "cell_type": "code",
   "execution_count": 30,
   "metadata": {},
   "outputs": [
    {
     "name": "stdout",
     "output_type": "stream",
     "text": [
      "What color are apples?\n",
      "(a) Red/Green\n",
      "(b) Purple\n",
      "(c) Orange\n",
      "\n",
      "g\n",
      "Input not allowed, please enter a, b, or c.\n",
      "\n",
      "What color are apples?\n",
      "(a) Red/Green\n",
      "(b) Purple\n",
      "(c) Orange\n",
      "\n",
      "\n",
      "Input not allowed, please enter a, b, or c.\n",
      "\n",
      "What color are apples?\n",
      "(a) Red/Green\n",
      "(b) Purple\n",
      "(c) Orange\n",
      "\n",
      "b\n",
      "What color are Bananas?\n",
      "(a) Teal\n",
      "(b) Magenta\n",
      "(c) Yellow\n",
      "\n",
      "c\n",
      "What color are Strawberries?\n",
      "(a) Yello\n",
      "(b) Red\n",
      "(c) Blueb4\n",
      "Input not allowed, please enter a, b, or c.\n",
      "\n",
      "What color are Strawberries?\n",
      "(a) Yello\n",
      "(b) Red\n",
      "(c) Blueb\n",
      " You got 3/3 Correct\n"
     ]
    }
   ],
   "source": [
    "run_test(questions)"
   ]
  }
 ],
 "metadata": {
  "kernelspec": {
   "display_name": "Python 3",
   "language": "python",
   "name": "python3"
  },
  "language_info": {
   "codemirror_mode": {
    "name": "ipython",
    "version": 3
   },
   "file_extension": ".py",
   "mimetype": "text/x-python",
   "name": "python",
   "nbconvert_exporter": "python",
   "pygments_lexer": "ipython3",
   "version": "3.6.5"
  }
 },
 "nbformat": 4,
 "nbformat_minor": 2
}
